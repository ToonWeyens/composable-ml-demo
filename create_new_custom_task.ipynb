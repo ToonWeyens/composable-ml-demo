{
 "cells": [
  {
   "cell_type": "code",
   "execution_count": 8,
   "metadata": {},
   "outputs": [],
   "source": [
    "import datarobot as dr\n",
    "import pandas as pd"
   ]
  },
  {
   "cell_type": "code",
   "execution_count": 11,
   "metadata": {},
   "outputs": [],
   "source": [
    "client = dr.Client(config_path = \"/Volumes/GoogleDrive/My Drive/Configurations/drconfig_staging.yaml\")"
   ]
  },
  {
   "cell_type": "markdown",
   "metadata": {},
   "source": [
    "# Create a custom task\n",
    "Composable ML consists of two major components: the [DataRobot Blueprint Workshop](https://blueprint-workshop.datarobot.com/) and custom tasks, detailed here.\n",
    "\n",
    "Custom tasks provide users the ability to train models with arbitrary code in an environment defined by the user.\n",
    "\n",
    "See [Composable ML Quickstart](https://docs.datarobot.com/en/docs/modeling/special-workflows/cml/cml-quickstart.html) for intro and [docs](https://docs.datarobot.com/en/docs/modeling/special-workflows/cml/cml-custom-tasks.html) for more info."
   ]
  },
  {
   "cell_type": "code",
   "execution_count": 38,
   "metadata": {},
   "outputs": [
    {
     "data": {
      "text/plain": [
       "[CustomTask('dump_output')]"
      ]
     },
     "execution_count": 38,
     "metadata": {},
     "output_type": "execute_result"
    }
   ],
   "source": [
    "dr.CustomTask.list()"
   ]
  },
  {
   "cell_type": "markdown",
   "metadata": {},
   "source": [
    "Have a look at [DRUM CLI tool](https://docs.datarobot.com/en/docs/modeling/special-workflows/cml/cml-drum.html):"
   ]
  },
  {
   "cell_type": "code",
   "execution_count": 43,
   "metadata": {},
   "outputs": [
    {
     "name": "stdout",
     "output_type": "stream",
     "text": [
      "Detected /Users/toon.weyens/Code/composable-ml-demo/custom-task/custom.py .. trying to load hooks\n",
      "Starting Fit\n",
      "Fit successful\n",
      "Starting Prediction\n",
      "Prediction successful for fit validation\n",
      "Validation Complete 🎉 Your model can be fit to your data,  and predictions can be made on the fit model! \n",
      " You're ready to add it to DataRobot. \n"
     ]
    }
   ],
   "source": [
    "!drum fit --code-dir custom-task --input data/iris_binary_training.csv --target Species --target-type transform"
   ]
  },
  {
   "cell_type": "code",
   "execution_count": 48,
   "metadata": {
    "vscode": {
     "languageId": "shellscript"
    }
   },
   "outputs": [
    {
     "name": "stdout",
     "output_type": "stream",
     "text": [
      "Detected push mode\n",
      "Detected fit mode\n",
      "2022-06-28 18:14:24,637 ERROR drum.datarobot_drum.drum.typeschema_validation:  Schema validation found mismatch between input dataset and the supplied schema\n",
      "2022-06-28 18:14:24,638 ERROR drum.datarobot_drum.drum.typeschema_validation:  Datatypes incorrect. Data has types: CAT, NUM, which includes values that are not in NUM.\n",
      "Detected /Users/toon.weyens/Code/composable-ml-demo/custom-task/custom.py .. trying to load hooks\n",
      "Starting Fit\n",
      "Fit successful\n",
      "Maximum fit memory usage: 111MB\n",
      "Starting Prediction\n",
      "stdout: Detected REST server mode - this is an advanced option\n",
      "Detected /private/var/folders/n_/26ryswsj5dvgr1x6rgdsdlcc0000gn/T/tmp4uq720o5/custom.py .. trying to load hooks\n",
      "\u001b[32m \u001b[0m\n",
      "\u001b[32m \u001b[0m\n",
      "\u001b[32m============================================================\u001b[0m\n",
      "\u001b[32mComponent: Prediction Server\u001b[0m\n",
      "\u001b[32mOutput:\u001b[0m\n",
      "\u001b[32m------------------------------------------------------------\u001b[0m\n",
      "\n",
      "Ctrl+C pressed, aborting drum\n",
      "\n",
      "stderr: 2022-06-28 18:14:27,245 ERROR drum.datarobot_drum.drum.typeschema_validation:  Schema validation found mismatch between output dataset and the supplied schema\n",
      "2022-06-28 18:14:27,245 ERROR drum.datarobot_drum.drum.typeschema_validation:  Datatypes incorrect. Data has types: CAT, NUM, which includes values that are not in NUM.\n",
      "\n",
      "2022-06-28 18:14:27,267 WARNING drum:  \u001b[33mLooks like there is a problem. To get more output information try to run with: --verbose\u001b[0m\n"
     ]
    }
   ],
   "source": [
    "!drum push --code-dir custom-task --verbose --disable-strict-validation"
   ]
  },
  {
   "cell_type": "code",
   "execution_count": null,
   "metadata": {
    "vscode": {
     "languageId": "shellscript"
    }
   },
   "outputs": [],
   "source": []
  }
 ],
 "metadata": {
  "kernelspec": {
   "display_name": "Python 3.7.13 ('composable-ml-demo': venv)",
   "language": "python",
   "name": "python3"
  },
  "language_info": {
   "codemirror_mode": {
    "name": "ipython",
    "version": 3
   },
   "file_extension": ".py",
   "mimetype": "text/x-python",
   "name": "python",
   "nbconvert_exporter": "python",
   "pygments_lexer": "ipython3",
   "version": "3.7.13"
  },
  "orig_nbformat": 4,
  "vscode": {
   "interpreter": {
    "hash": "6ca763f306d6ad9fd8c5f50b21e9e3912817176f4f539983f08654cefafb7c5d"
   }
  }
 },
 "nbformat": 4,
 "nbformat_minor": 2
}
